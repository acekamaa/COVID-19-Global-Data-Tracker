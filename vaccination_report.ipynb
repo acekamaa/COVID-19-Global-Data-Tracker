{
 "cells": [
  {
   "cell_type": "markdown",
   "id": "86064cfc",
   "metadata": {},
   "source": [
    "# COVID-19 Vaccination Progress Report\n",
    "This notebook analyzes and visualizes global COVID-19 vaccination data, comparing rollout trends and coverage across selected countries.\n"
   ]
  },
  {
   "cell_type": "code",
   "execution_count": null,
   "id": "1a9194df",
   "metadata": {
    "vscode": {
     "languageId": "plaintext"
    }
   },
   "outputs": [],
   "source": [
    "# import libraries\n",
    "import pandas as pd\n",
    "import matplotlib.pyplot as plt\n",
    "import seaborn as sns\n"
   ]
  },
  {
   "cell_type": "code",
   "execution_count": null,
   "id": "d28c45e8",
   "metadata": {
    "vscode": {
     "languageId": "plaintext"
    }
   },
   "outputs": [],
   "source": [
    "# load the data\n",
    "df = pd.read_csv(\"vaccination_data.csv\")  # Update with your actual path\n",
    "df.head()\n"
   ]
  },
  {
   "cell_type": "code",
   "execution_count": null,
   "id": "5b98fe01",
   "metadata": {
    "vscode": {
     "languageId": "plaintext"
    }
   },
   "outputs": [],
   "source": [
    "# clean the data\n",
    "df['date'] = pd.to_datetime(df['date'])\n",
    "df = df.dropna(subset=['total_vaccinations', 'people_vaccinated_per_hundred'])\n",
    "selected_countries = ['Kenya', 'India', 'USA']\n",
    "df = df[df['location'].isin(selected_countries)]\n"
   ]
  },
  {
   "cell_type": "code",
   "execution_count": null,
   "id": "a910d559",
   "metadata": {
    "vscode": {
     "languageId": "plaintext"
    }
   },
   "outputs": [],
   "source": [
    "# visualize vaccination trends\n",
    "plt.figure(figsize=(12, 6))\n",
    "sns.lineplot(data=df, x='date', y='total_vaccinations', hue='location')\n",
    "plt.title('Cumulative COVID-19 Vaccinations Over Time')\n",
    "plt.xlabel('Date')\n",
    "plt.ylabel('Total Vaccinations')\n",
    "plt.legend(title='Country')\n",
    "plt.tight_layout()\n",
    "plt.show()\n"
   ]
  },
  {
   "cell_type": "code",
   "execution_count": null,
   "id": "fc03ffbe",
   "metadata": {
    "vscode": {
     "languageId": "plaintext"
    }
   },
   "outputs": [],
   "source": [
    "# compare % vaccinated\n",
    "latest_data = df.sort_values('date').groupby('location').tail(1)\n",
    "\n",
    "plt.figure(figsize=(8, 5))\n",
    "sns.barplot(data=latest_data, x='location', y='people_vaccinated_per_hundred')\n",
    "plt.title('% of Population Vaccinated')\n",
    "plt.ylabel('% Vaccinated')\n",
    "plt.ylim(0, 100)\n",
    "plt.tight_layout()\n",
    "plt.show()\n"
   ]
  },
  {
   "cell_type": "code",
   "execution_count": null,
   "id": "def2c1e0",
   "metadata": {
    "vscode": {
     "languageId": "plaintext"
    }
   },
   "outputs": [],
   "source": [
    "# optional pie chart\n",
    "country = 'India'\n",
    "row = latest_data[latest_data['location'] == country].iloc[0]\n",
    "sizes = [row['people_vaccinated_per_hundred'], 100 - row['people_vaccinated_per_hundred']]\n",
    "\n",
    "plt.figure(figsize=(6, 6))\n",
    "plt.pie(sizes, labels=['Vaccinated', 'Unvaccinated'], autopct='%1.1f%%', startangle=140)\n",
    "plt.title(f'{country}: Vaccinated vs. Unvaccinated')\n",
    "plt.axis('equal')\n",
    "plt.show()\n"
   ]
  },
  {
   "cell_type": "markdown",
   "id": "f6090805",
   "metadata": {},
   "source": [
    "## 📊 Insights & Reporting\n",
    "\n",
    "### ✅ Key Insights\n",
    "1. India had the fastest initial vaccine rollout.\n",
    "2. The USA reached the highest percentage of vaccinated population.\n",
    "3. Kenya’s rollout lagged due to later access and slower uptake.\n",
    "\n",
    "### ⚠️ Notable Patterns\n",
    "- Vaccine hesitancy likely slowed progress after early peaks.\n",
    "- Reporting gaps in Kenya indicate data irregularities.\n"
   ]
  },
  {
   "cell_type": "markdown",
   "id": "5d8109c4",
   "metadata": {},
   "source": [
    "## ✅ Conclusion\n",
    "\n",
    "This analysis highlights the unequal pace of vaccination across nations, shaped by healthcare infrastructure, supply chains, and public response. The visualizations and insights offer a clearer understanding of global vaccine distribution progress.\n"
   ]
  }
 ],
 "metadata": {
  "language_info": {
   "name": "python"
  }
 },
 "nbformat": 4,
 "nbformat_minor": 5
}
