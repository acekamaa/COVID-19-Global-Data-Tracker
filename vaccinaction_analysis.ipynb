{
 "cells": [
  {
   "cell_type": "markdown",
   "id": "96357ec5",
   "metadata": {},
   "source": [
    "Insights & Reporting\n",
    "\n",
    "Key Insights\n",
    "India showed the fastest initial vaccine rollout among the selected countries, with a sharp rise in total vaccinations during the first few months.\n",
    "\n",
    "The USA achieved the highest percentage of vaccinated population, surpassing 70% coverage in the observed timeframe.\n",
    "\n",
    "Kenya had a slower and steadier rollout, with a noticeable delay in reaching even 10% population coverage compared to other nations.\n",
    "\n",
    "Plateaus in the vaccination curves suggest vaccine hesitancy or supply issues in later stages for some countries.\n",
    "\n",
    "Strong correlation between economic status and vaccine access — high-income countries generally show earlier and steeper uptake."
   ]
  },
  {
   "cell_type": "markdown",
   "id": "b7873c7f",
   "metadata": {},
   "source": [
    "Anomalies & Interesting Patterns\n",
    "\n",
    "Despite early progress, India's vaccination curve plateaued mid-way, potentially due to supply chain bottlenecks.\n",
    "\n",
    "Kenya's data shows gaps on some dates, indicating possible reporting inconsistencies.\n",
    "\n",
    "The USA's rollout slowed after reaching 60%, hinting at vaccine hesitancy."
   ]
  }
 ],
 "metadata": {
  "language_info": {
   "name": "python"
  }
 },
 "nbformat": 4,
 "nbformat_minor": 5
}
